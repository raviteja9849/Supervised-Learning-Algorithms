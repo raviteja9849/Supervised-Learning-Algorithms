{
  "cells": [
    {
      "cell_type": "markdown",
      "metadata": {
        "id": "view-in-github",
        "colab_type": "text"
      },
      "source": [
        "<a href=\"https://colab.research.google.com/github/raviteja9849/Supervised-Learning-Algorithms/blob/main/Logistic_Regression_and_Logistic_Loss.ipynb\" target=\"_parent\"><img src=\"https://colab.research.google.com/assets/colab-badge.svg\" alt=\"Open In Colab\"/></a>"
      ]
    },
    {
      "cell_type": "markdown",
      "metadata": {
        "id": "J9qJduk_MbSC"
      },
      "source": [
        "# Optional Lab: Logistic Regression, Logistic Loss\n",
        "\n",
        "In this ungraded lab, you will:\n",
        "- explore the reason the squared error loss is not appropriate for logistic regression\n",
        "- explore the logistic loss function"
      ],
      "id": "J9qJduk_MbSC"
    },
    {
      "cell_type": "code",
      "execution_count": null,
      "metadata": {
        "id": "qvXcvP2zMbSK"
      },
      "outputs": [],
      "source": [
        "import numpy as np\n",
        "%matplotlib widget\n",
        "import matplotlib.pyplot as plt\n",
        "from plt_logistic_loss import  plt_logistic_cost, plt_two_logistic_loss_curves, plt_simple_example\n",
        "from plt_logistic_loss import soup_bowl, plt_logistic_squared_error\n",
        "plt.style.use('./deeplearning.mplstyle')"
      ],
      "id": "qvXcvP2zMbSK"
    },
    {
      "cell_type": "markdown",
      "metadata": {
        "id": "muSj3dsOMbSO"
      },
      "source": [
        "## Squared error for logistic regression?\n",
        "<img align=\"left\" src=\"./images/C1_W3_SqErrorVsLogistic.png\"     style=\" width:400px; padding: 10px; \" > Recall for **Linear** Regression we have used the **squared error cost function**:\n",
        "The equation for the squared error cost with one variable is:\n",
        "  $$J(w,b) = \\frac{1}{2m} \\sum\\limits_{i = 0}^{m-1} (f_{w,b}(x^{(i)}) - y^{(i)})^2 \\tag{1}$$ \n",
        " \n",
        "where \n",
        "  $$f_{w,b}(x^{(i)}) = wx^{(i)} + b \\tag{2}$$\n"
      ],
      "id": "muSj3dsOMbSO"
    },
    {
      "cell_type": "markdown",
      "metadata": {
        "id": "9d_KyjqkMbSQ"
      },
      "source": [
        "Recall, the squared error cost had the nice property that following the derivative of the cost leads to the minimum."
      ],
      "id": "9d_KyjqkMbSQ"
    },
    {
      "cell_type": "code",
      "execution_count": null,
      "metadata": {
        "id": "1jAEUDgkMbSR",
        "outputId": "da98aa02-3706-42d1-b951-d36db3fcbbad",
        "colab": {
          "referenced_widgets": [
            "97852c78127f4107a949593bf65c928b"
          ]
        }
      },
      "outputs": [
        {
          "data": {
            "application/vnd.jupyter.widget-view+json": {
              "model_id": "97852c78127f4107a949593bf65c928b",
              "version_major": 2,
              "version_minor": 0
            },
            "text/plain": [
              "Canvas(toolbar=Toolbar(toolitems=[('Home', 'Reset original view', 'home', 'home'), ('Back', 'Back to previous …"
            ]
          },
          "metadata": {},
          "output_type": "display_data"
        }
      ],
      "source": [
        "soup_bowl()"
      ],
      "id": "1jAEUDgkMbSR"
    },
    {
      "cell_type": "markdown",
      "metadata": {
        "id": "zSb__oJ2MbSU"
      },
      "source": [
        "This cost function worked well for linear regression, it is natural to consider it for logistic regression as well. However, as the slide above points out, $f_{wb}(x)$ now has a non-linear component, the sigmoid function:   $f_{w,b}(x^{(i)}) = sigmoid(wx^{(i)} + b )$.   Let's try a squared error cost on the example from an earlier lab, now including the sigmoid.\n",
        "\n",
        "Here is our training data:"
      ],
      "id": "zSb__oJ2MbSU"
    },
    {
      "cell_type": "code",
      "execution_count": null,
      "metadata": {
        "id": "biClKSsSMbSW",
        "outputId": "d4763535-8c5c-47bd-97ec-2d675c09f609",
        "colab": {
          "referenced_widgets": [
            "5331a6363c334eae83bc7baa6722c363"
          ]
        }
      },
      "outputs": [
        {
          "data": {
            "application/vnd.jupyter.widget-view+json": {
              "model_id": "5331a6363c334eae83bc7baa6722c363",
              "version_major": 2,
              "version_minor": 0
            },
            "text/plain": [
              "Canvas(toolbar=Toolbar(toolitems=[('Home', 'Reset original view', 'home', 'home'), ('Back', 'Back to previous …"
            ]
          },
          "metadata": {},
          "output_type": "display_data"
        }
      ],
      "source": [
        "x_train = np.array([0., 1, 2, 3, 4, 5],dtype=np.longdouble)\n",
        "y_train = np.array([0,  0, 0, 1, 1, 1],dtype=np.longdouble)\n",
        "plt_simple_example(x_train, y_train)"
      ],
      "id": "biClKSsSMbSW"
    },
    {
      "cell_type": "markdown",
      "metadata": {
        "id": "oVQGbchLMbSY"
      },
      "source": [
        "Now, let's get a surface plot of the cost using a *squared error cost*:\n",
        "  $$J(w,b) = \\frac{1}{2m} \\sum\\limits_{i = 0}^{m-1} (f_{w,b}(x^{(i)}) - y^{(i)})^2 $$ \n",
        " \n",
        "where \n",
        "  $$f_{w,b}(x^{(i)}) = sigmoid(wx^{(i)} + b )$$\n"
      ],
      "id": "oVQGbchLMbSY"
    },
    {
      "cell_type": "code",
      "execution_count": null,
      "metadata": {
        "id": "EJ3TRyBCMbSa",
        "outputId": "9cad4790-345e-48a3-f3d1-0d1b801f4e57",
        "colab": {
          "referenced_widgets": [
            "54143f99bd1c4908a3ff3f8ad3fe0cec"
          ]
        }
      },
      "outputs": [
        {
          "data": {
            "application/vnd.jupyter.widget-view+json": {
              "model_id": "54143f99bd1c4908a3ff3f8ad3fe0cec",
              "version_major": 2,
              "version_minor": 0
            },
            "text/plain": [
              "Canvas(toolbar=Toolbar(toolitems=[('Home', 'Reset original view', 'home', 'home'), ('Back', 'Back to previous …"
            ]
          },
          "metadata": {},
          "output_type": "display_data"
        }
      ],
      "source": [
        "plt.close('all')\n",
        "plt_logistic_squared_error(x_train,y_train)\n",
        "plt.show()"
      ],
      "id": "EJ3TRyBCMbSa"
    },
    {
      "cell_type": "markdown",
      "metadata": {
        "id": "JUIuS1LRMbSc"
      },
      "source": [
        "While this produces a pretty interesting plot, the surface above not nearly as smooth as the 'soup bowl' from linear regression!    \n",
        "\n",
        "Logistic regression requires a cost function more suitable to its non-linear nature. This starts with a Loss function. This is described below."
      ],
      "id": "JUIuS1LRMbSc"
    },
    {
      "cell_type": "markdown",
      "metadata": {
        "id": "dEKkSoGXMbSe"
      },
      "source": [
        "## Logistic Loss Function\n",
        "<img align=\"left\" src=\"./images/C1_W3_LogisticLoss_a.png\"     style=\" width:250px; padding: 2px; \" >\n",
        "<img align=\"left\" src=\"./images/C1_W3_LogisticLoss_b.png\"     style=\" width:250px; padding: 2px; \" >\n",
        "<img align=\"left\" src=\"./images/C1_W3_LogisticLoss_c.png\"     style=\" width:250px; padding: 2px; \" > "
      ],
      "id": "dEKkSoGXMbSe"
    },
    {
      "cell_type": "markdown",
      "metadata": {
        "id": "PVe0DpWHMbSf"
      },
      "source": [
        "Logistic Regression uses a loss function more suited to the task of categorization where the target is 0 or 1 rather than any number. \n",
        "\n",
        ">**Definition Note:**   In this course, these definitions are used:  \n",
        "**Loss** is a measure of the difference of a single example to its target value while the  \n",
        "**Cost** is a measure of the losses over the training set\n",
        "\n",
        "\n",
        "This is defined: \n",
        "* $loss(f_{\\mathbf{w},b}(\\mathbf{x}^{(i)}), y^{(i)})$ is the cost for a single data point, which is:\n",
        "\n",
        "\\begin{equation}\n",
        "  loss(f_{\\mathbf{w},b}(\\mathbf{x}^{(i)}), y^{(i)}) = \\begin{cases}\n",
        "    - \\log\\left(f_{\\mathbf{w},b}\\left( \\mathbf{x}^{(i)} \\right) \\right) & \\text{if $y^{(i)}=1$}\\\\\n",
        "    - \\log \\left( 1 - f_{\\mathbf{w},b}\\left( \\mathbf{x}^{(i)} \\right) \\right) & \\text{if $y^{(i)}=0$}\n",
        "  \\end{cases}\n",
        "\\end{equation}\n",
        "\n",
        "\n",
        "*  $f_{\\mathbf{w},b}(\\mathbf{x}^{(i)})$ is the model's prediction, while $y^{(i)}$ is the target value.\n",
        "\n",
        "*  $f_{\\mathbf{w},b}(\\mathbf{x}^{(i)}) = g(\\mathbf{w} \\cdot\\mathbf{x}^{(i)}+b)$ where function $g$ is the sigmoid function.\n",
        "\n",
        "The defining feature of this loss function is the fact that it uses two separate curves. One for the case when the target is zero or ($y=0$) and another for when the target is one ($y=1$). Combined, these curves provide the behavior useful for a loss function, namely, being zero when the prediction matches the target and rapidly increasing in value as the prediction differs from the target. Consider the curves below:"
      ],
      "id": "PVe0DpWHMbSf"
    },
    {
      "cell_type": "code",
      "execution_count": null,
      "metadata": {
        "id": "pJhEkQumMbSh",
        "outputId": "df1a72e1-a435-4607-b6a5-ed9af9ccd3f4",
        "colab": {
          "referenced_widgets": [
            "2f536f2edfc34f498fe2423ad75c99d9"
          ]
        }
      },
      "outputs": [
        {
          "data": {
            "application/vnd.jupyter.widget-view+json": {
              "model_id": "2f536f2edfc34f498fe2423ad75c99d9",
              "version_major": 2,
              "version_minor": 0
            },
            "text/plain": [
              "Canvas(toolbar=Toolbar(toolitems=[('Home', 'Reset original view', 'home', 'home'), ('Back', 'Back to previous …"
            ]
          },
          "metadata": {},
          "output_type": "display_data"
        }
      ],
      "source": [
        "plt_two_logistic_loss_curves()"
      ],
      "id": "pJhEkQumMbSh"
    },
    {
      "cell_type": "markdown",
      "metadata": {
        "id": "E3Y03nsPMbSj"
      },
      "source": [
        "Combined, the curves are similar to the quadratic curve of the squared error loss. Note, the x-axis is $f_{\\mathbf{w},b}$ which is the output of a sigmoid. The sigmoid output is strictly between 0 and 1."
      ],
      "id": "E3Y03nsPMbSj"
    },
    {
      "cell_type": "markdown",
      "metadata": {
        "id": "kF9WannbMbSk"
      },
      "source": [
        "The loss function above can be rewritten to be easier to implement.\n",
        "    $$loss(f_{\\mathbf{w},b}(\\mathbf{x}^{(i)}), y^{(i)}) = (-y^{(i)} \\log\\left(f_{\\mathbf{w},b}\\left( \\mathbf{x}^{(i)} \\right) \\right) - \\left( 1 - y^{(i)}\\right) \\log \\left( 1 - f_{\\mathbf{w},b}\\left( \\mathbf{x}^{(i)} \\right) \\right)$$\n",
        "  \n",
        "This is a rather formidable-looking equation. It is less daunting when you consider $y^{(i)}$ can have only two values, 0 and 1. One can then consider the equation in two pieces:  \n",
        "when $ y^{(i)} = 0$, the left-hand term is eliminated:\n",
        "$$\n",
        "\\begin{align}\n",
        "loss(f_{\\mathbf{w},b}(\\mathbf{x}^{(i)}), 0) &= (-(0) \\log\\left(f_{\\mathbf{w},b}\\left( \\mathbf{x}^{(i)} \\right) \\right) - \\left( 1 - 0\\right) \\log \\left( 1 - f_{\\mathbf{w},b}\\left( \\mathbf{x}^{(i)} \\right) \\right) \\\\\n",
        "&= -\\log \\left( 1 - f_{\\mathbf{w},b}\\left( \\mathbf{x}^{(i)} \\right) \\right)\n",
        "\\end{align}\n",
        "$$\n",
        "and when $ y^{(i)} = 1$, the right-hand term is eliminated:\n",
        "$$\n",
        "\\begin{align}\n",
        "  loss(f_{\\mathbf{w},b}(\\mathbf{x}^{(i)}), 1) &=  (-(1) \\log\\left(f_{\\mathbf{w},b}\\left( \\mathbf{x}^{(i)} \\right) \\right) - \\left( 1 - 1\\right) \\log \\left( 1 - f_{\\mathbf{w},b}\\left( \\mathbf{x}^{(i)} \\right) \\right)\\\\\n",
        "  &=  -\\log\\left(f_{\\mathbf{w},b}\\left( \\mathbf{x}^{(i)} \\right) \\right)\n",
        "\\end{align}\n",
        "$$\n",
        "\n",
        "OK, with this new logistic loss function, a cost function can be produced that incorporates the loss from all the examples. This will be the topic of the next lab. For now, let's take a look at the cost vs parameters curve for the simple example we considered above:"
      ],
      "id": "kF9WannbMbSk"
    },
    {
      "cell_type": "code",
      "execution_count": null,
      "metadata": {
        "id": "BgSCwkAOMbSl"
      },
      "outputs": [],
      "source": [
        "plt.close('all')\n",
        "cst = plt_logistic_cost(x_train,y_train)"
      ],
      "id": "BgSCwkAOMbSl"
    },
    {
      "cell_type": "markdown",
      "metadata": {
        "id": "usZy7UgQMbSm"
      },
      "source": [
        "This curve is well suited to gradient descent! It does not have plateaus, local minima, or discontinuities. Note, it is not a bowl as in the case of squared error. Both the cost and the log of the cost are plotted to illuminate the fact that the curve, when the cost is small, has a slope and continues to decline. Reminder: you can rotate the above plots using your mouse."
      ],
      "id": "usZy7UgQMbSm"
    },
    {
      "cell_type": "markdown",
      "metadata": {
        "id": "1KnJiIAoMbSm"
      },
      "source": [
        "## Congratulation!  \n",
        "You have:\n",
        " - determined a squared error loss function is not suitable for classification tasks\n",
        " - developed and examined the logistic loss function which **is** suitable for classification tasks.\n",
        "\n"
      ],
      "id": "1KnJiIAoMbSm"
    },
    {
      "cell_type": "code",
      "execution_count": null,
      "metadata": {
        "id": "yIP6eQ3KMbSn"
      },
      "outputs": [],
      "source": [],
      "id": "yIP6eQ3KMbSn"
    }
  ],
  "metadata": {
    "kernelspec": {
      "display_name": "Python 3",
      "language": "python",
      "name": "python3"
    },
    "language_info": {
      "codemirror_mode": {
        "name": "ipython",
        "version": 3
      },
      "file_extension": ".py",
      "mimetype": "text/x-python",
      "name": "python",
      "nbconvert_exporter": "python",
      "pygments_lexer": "ipython3",
      "version": "3.7.6"
    },
    "toc-showcode": true,
    "colab": {
      "provenance": [],
      "include_colab_link": true
    }
  },
  "nbformat": 4,
  "nbformat_minor": 5
}