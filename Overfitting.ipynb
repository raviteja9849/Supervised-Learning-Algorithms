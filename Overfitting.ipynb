{
  "cells": [
    {
      "cell_type": "markdown",
      "metadata": {
        "id": "view-in-github",
        "colab_type": "text"
      },
      "source": [
        "<a href=\"https://colab.research.google.com/github/raviteja9849/Supervised-Learning-Algorithms/blob/main/Overfitting.ipynb\" target=\"_parent\"><img src=\"https://colab.research.google.com/assets/colab-badge.svg\" alt=\"Open In Colab\"/></a>"
      ]
    },
    {
      "cell_type": "markdown",
      "metadata": {
        "id": "puws3RZGbIi8"
      },
      "source": [
        "# Ungraded Lab:  Overfitting \n",
        "\n",
        "<img align=\"left\" src=\"./images/C1_W3_Overfitting_a.png\"     style=\" width:250px; padding: 10px; \" >\n",
        "<img align=\"left\" src=\"./images/C1_W3_Overfitting_b.png\"     style=\" width:250px; padding: 10px; \" >\n",
        "<img align=\"left\" src=\"./images/C1_W3_Overfitting_c.png\"     style=\" width:250px; padding: 10px; \" >"
      ],
      "id": "puws3RZGbIi8"
    },
    {
      "cell_type": "markdown",
      "metadata": {
        "id": "AnchDYiibIjG"
      },
      "source": [
        "## Goals\n",
        "In this lab, you will explore:\n",
        "- the situations where overfitting can occur\n",
        "- some of the solutions"
      ],
      "id": "AnchDYiibIjG"
    },
    {
      "cell_type": "code",
      "execution_count": null,
      "metadata": {
        "id": "3dGc1kFHbIjI"
      },
      "outputs": [],
      "source": [
        "%matplotlib widget\n",
        "import matplotlib.pyplot as plt\n",
        "from ipywidgets import Output\n",
        "from plt_overfit import overfit_example, output\n",
        "plt.style.use('./deeplearning.mplstyle')"
      ],
      "id": "3dGc1kFHbIjI"
    },
    {
      "cell_type": "markdown",
      "metadata": {
        "id": "DYnEY3nZbIjO"
      },
      "source": [
        "# Overfitting\n",
        "The week's lecture described situations where overfitting can arise. Run the cell below to generate a plot that will allow you to explore overfitting. There are further instructions below the cell."
      ],
      "id": "DYnEY3nZbIjO"
    },
    {
      "cell_type": "code",
      "execution_count": null,
      "metadata": {
        "id": "_9DR7zUzbIjR"
      },
      "outputs": [],
      "source": [
        "plt.close(\"all\")\n",
        "display(output)\n",
        "ofit = overfit_example(False)"
      ],
      "id": "_9DR7zUzbIjR"
    },
    {
      "cell_type": "markdown",
      "metadata": {
        "id": "f6YLNINybIjS"
      },
      "source": [
        "In the plot above you can:\n",
        "- switch between Regression and Categorization examples\n",
        "- add data\n",
        "- select the degree of the model\n",
        "- fit the model to the data  \n",
        "\n",
        "Here are some things you should try:\n",
        "- Fit the data with degree = 1; Note 'underfitting'.\n",
        "- Fit the data with degree = 6; Note 'overfitting'\n",
        "- tune degree to get the 'best fit'\n",
        "- add data:\n",
        "    - extreme examples can increase overfitting (assuming they are outliers).\n",
        "    - nominal examples can reduce overfitting\n",
        "- switch between `Regression` and `Categorical` to try both examples.\n",
        "\n",
        "To reset the plot, re-run the cell. Click slowly to allow the plot to update before receiving the next click.\n",
        "\n",
        "Notes on implementations:\n",
        "- the 'ideal' curves represent the generator model to which noise was added to achieve the data set\n",
        "- 'fit' does not use pure gradient descent to improve speed. These methods can be used on smaller data sets. "
      ],
      "id": "f6YLNINybIjS"
    },
    {
      "cell_type": "markdown",
      "metadata": {
        "id": "8SWbuIulbIjU"
      },
      "source": [
        "## Congratulations!\n",
        "You have developed some intuition about the causes and solutions to overfitting. In the next lab, you will explore a commonly used solution, Regularization."
      ],
      "id": "8SWbuIulbIjU"
    },
    {
      "cell_type": "code",
      "execution_count": null,
      "metadata": {
        "id": "i0LewCNjbIjW"
      },
      "outputs": [],
      "source": [],
      "id": "i0LewCNjbIjW"
    }
  ],
  "metadata": {
    "kernelspec": {
      "display_name": "Python 3",
      "language": "python",
      "name": "python3"
    },
    "language_info": {
      "codemirror_mode": {
        "name": "ipython",
        "version": 3
      },
      "file_extension": ".py",
      "mimetype": "text/x-python",
      "name": "python",
      "nbconvert_exporter": "python",
      "pygments_lexer": "ipython3",
      "version": "3.7.6"
    },
    "colab": {
      "provenance": [],
      "include_colab_link": true
    }
  },
  "nbformat": 4,
  "nbformat_minor": 5
}